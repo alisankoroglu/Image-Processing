{
 "cells": [
  {
   "cell_type": "markdown",
   "id": "630c9943-50fa-4dfe-85ee-468a878b9fdf",
   "metadata": {
    "jp-MarkdownHeadingCollapsed": true
   },
   "source": [
    "# Importing the Image"
   ]
  },
  {
   "cell_type": "markdown",
   "id": "05a53eba-498b-4d86-898a-d52b201a20d7",
   "metadata": {},
   "source": [
    "* reading image:  means obtaining the color values of the pixels that make up the image.\n",
    "* Since the image we are importing is in the same directory as the Python file, it is sufficient to write only the image name. Otherwise, we would need to specify the image name along with its extension such as cv2.imread(\"C:\\Users\\ali\\Desktop\\imageProcessing\\messi5.jpg\")"
   ]
  },
  {
   "cell_type": "code",
   "execution_count": 9,
   "id": "b07476e0-64e6-4e90-be72-4ffe2e93cb43",
   "metadata": {},
   "outputs": [
    {
     "data": {
      "text/plain": [
       "numpy.ndarray"
      ]
     },
     "execution_count": 9,
     "metadata": {},
     "output_type": "execute_result"
    }
   ],
   "source": [
    "import cv2 # import opencv library\n",
    "\n",
    "cv2.imread(\"messi5.jpg\")"
   ]
  },
  {
   "cell_type": "code",
   "execution_count": 13,
   "id": "89fe5c97-d3dd-4b67-8970-193bbec6ff73",
   "metadata": {},
   "outputs": [],
   "source": [
    "import cv2\n",
    "\n",
    "img = cv2.imread(\"messi5.jpg\", 0) # The `0` parameter we enter imports the image in grayscale mode.\n",
    " # The pixel values of the image read in black and white are assigned as an array to the `img` variable.\n",
    "\n",
    "# Visualization of the Read Image\n",
    "cv2.imshow(\"First Image\", # the name of the window\n",
    "           img) # the image data that will be displayed\n",
    "\n",
    "# We will establish a keyboard connection to close the opened image window.\n",
    "k = cv2.waitKey(0) &0xFF # to capture a key press and ensure compatibility across different systems\n",
    "# cv2.waitKey(0): Waits indefinitely for a key press.\n",
    "# & 0xFF: Ensures only the last 8 bits are considered, making it compatible across different operating systems (especially useful in 64-bit systems).\n",
    "\n",
    "if k == 27: # When the numerical equivalent of the Esc key is pressed, it will close the image.\n",
    "    cv2.destroyAllWindows()\n",
    "elif k == ord('s'): # When the 's' key on the keyboard is pressed, it will save the image.\n",
    "\n",
    "    # To save\n",
    "    cv2.imwrite(\"messi_gray.png\", # The filename and format in which the image will be saved.\n",
    "                img) # The image data to be saved.\n",
    "    \n",
    "    cv2.destroyAllWindows()"
   ]
  },
  {
   "cell_type": "markdown",
   "id": "f43f81c0-4c2e-43b0-88e3-c070c83db0c3",
   "metadata": {
    "jp-MarkdownHeadingCollapsed": true
   },
   "source": [
    "# Importing a Video"
   ]
  },
  {
   "cell_type": "code",
   "execution_count": 19,
   "id": "32130667-d81f-4ea6-8ed0-d2f4dc6b5166",
   "metadata": {},
   "outputs": [
    {
     "name": "stdout",
     "output_type": "stream",
     "text": [
      "width:  1920.0\n",
      "height:  1080.0\n"
     ]
    }
   ],
   "source": [
    "import cv2 \n",
    "import time\n",
    "\n",
    "video_name = \"MOT17-04-DPM.mp4\"\n",
    "\n",
    "# Importing a Video: capture \n",
    "cap = cv2.VideoCapture(video_name) # This function creates a VideoCapture object to read video files, webcams, or other video sources.\n",
    "\n",
    "\n",
    "print(\"width: \", cap.get(3)) # 3. index = width\n",
    "print(\"height: \", cap.get(4)) # 4. index = height\n",
    "\n",
    "if cap.isOpened() == False:\n",
    "    print(\"Error\") # Prints an error message if the video could not be opened.\n",
    "# cap.isOpened(): Returns True if the video file or camera was successfully opened; otherwise, it returns False.\n",
    "\n",
    "# Reading a Video\n",
    "while True:\n",
    "    ret, frame = cap.read() # Reads the next frame from the video. returns ret and frame\n",
    "    # ret: A Boolean value (True/False). It is True if the frame was read successfully and False if the video has ended or an error occurred.\n",
    "    # frame: The actual frame (image) captured from the video.\n",
    "\n",
    "    if ret == True:\n",
    "\n",
    "        time.sleep(0.01) # is used to introduce a small delay in the program execution, pausing it for 0.01 seconds (10 milliseconds).\n",
    "\n",
    "        cv2.imshow(\"Video\", frame)\n",
    "\n",
    "    else: break # When there is nothing left to display in the video. \n",
    "\n",
    "    if cv2.waitKey(1) & 0xFF == ord(\"q\"): # To exit by pressing the 'q' key.\n",
    "        break\n",
    "\n",
    "cap.release() \n",
    "cv2.destroyAllWindows()"
   ]
  },
  {
   "cell_type": "markdown",
   "id": "1768c0cf-ed98-469d-9799-02274b615215",
   "metadata": {
    "jp-MarkdownHeadingCollapsed": true
   },
   "source": [
    "# Opening the Camera and Recording Video in OpenCV"
   ]
  },
  {
   "cell_type": "code",
   "execution_count": 25,
   "id": "cbc2b22b-f732-4162-bc6f-f46591fdbf24",
   "metadata": {},
   "outputs": [
    {
     "name": "stdout",
     "output_type": "stream",
     "text": [
      "640 480\n"
     ]
    }
   ],
   "source": [
    "import cv2 \n",
    "\n",
    "# capture\n",
    "cap = cv2.VideoCapture(0) #  is used to open the default camera (webcam)\n",
    "# 0 → Opens the default camera (usually the built-in webcam).\n",
    "# 1, 2, ... → Opens an external camera (if multiple cameras are connected).\n",
    "# \"video.mp4\" → Opens a video file instead of a camera.\n",
    "\n",
    "\n",
    "# To get the width and height of your camera's video feed\n",
    "width = int(cap.get(cv2.CAP_PROP_FRAME_WIDTH))\n",
    "height = int(cap.get(cv2.CAP_PROP_FRAME_HEIGHT))\n",
    "print(width, height)\n",
    "\n",
    "# Recording Video from Camera\n",
    "writer = cv2.VideoWriter(\"video_kaydi.mp4\", # The output video file name and format.\n",
    "                         cv2.VideoWriter_fourcc(*\"DIVX\"), # Defines the video codec for compression (for windows)\n",
    "                         20, # 20 frame per second\n",
    "                         (width, height)) # Specifies the video resolution (must match the camera frame size).\n",
    "\n",
    "while True:\n",
    "    # visualization\n",
    "    ret, frame = cap.read()\n",
    "    cv2.imshow(\"Video\", frame)\n",
    "\n",
    "    # save\n",
    "    writer.write(frame)\n",
    "    if cv2.waitKey(1) &0XFF == ord(\"q\"): break\n",
    "\n",
    "cap.release()\n",
    "writer.release()\n",
    "cv2.destroyAllWindows()"
   ]
  },
  {
   "cell_type": "markdown",
   "id": "0b8fe5c1-a60f-4b3a-bb94-a54a19e968d3",
   "metadata": {},
   "source": [
    "# Resize & Crop"
   ]
  },
  {
   "cell_type": "code",
   "execution_count": null,
   "id": "c10506d6-c5cc-4fe7-9898-37f2cbd74c13",
   "metadata": {},
   "outputs": [],
   "source": []
  }
 ],
 "metadata": {
  "kernelspec": {
   "display_name": "Python [conda env:base] *",
   "language": "python",
   "name": "conda-base-py"
  },
  "language_info": {
   "codemirror_mode": {
    "name": "ipython",
    "version": 3
   },
   "file_extension": ".py",
   "mimetype": "text/x-python",
   "name": "python",
   "nbconvert_exporter": "python",
   "pygments_lexer": "ipython3",
   "version": "3.12.7"
  }
 },
 "nbformat": 4,
 "nbformat_minor": 5
}
